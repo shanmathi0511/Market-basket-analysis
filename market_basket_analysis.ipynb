{
  "cells": [
    {
      "cell_type": "code",
      "execution_count": 1,
      "metadata": {
        "colab": {
          "base_uri": "https://localhost:8080/"
        },
        "id": "8y6lS6olyv4g",
        "outputId": "3a9d8cfe-4059-4402-a2ad-24293d5291f3"
      },
      "outputs": [
        {
          "output_type": "stream",
          "name": "stdout",
          "text": [
            "\u001b[2K     \u001b[90m━━━━━━━━━━━━━━━━━━━━━━━━━━━━━━━━━━━━━━━━\u001b[0m \u001b[32m41.9/41.9 kB\u001b[0m \u001b[31m2.9 MB/s\u001b[0m eta \u001b[36m0:00:00\u001b[0m\n",
            "\u001b[2K   \u001b[90m━━━━━━━━━━━━━━━━━━━━━━━━━━━━━━━━━━━━━━━━\u001b[0m \u001b[32m8.7/8.7 MB\u001b[0m \u001b[31m96.7 MB/s\u001b[0m eta \u001b[36m0:00:00\u001b[0m\n",
            "\u001b[2K   \u001b[90m━━━━━━━━━━━━━━━━━━━━━━━━━━━━━━━━━━━━━━━━\u001b[0m \u001b[32m207.3/207.3 kB\u001b[0m \u001b[31m17.1 MB/s\u001b[0m eta \u001b[36m0:00:00\u001b[0m\n",
            "\u001b[2K   \u001b[90m━━━━━━━━━━━━━━━━━━━━━━━━━━━━━━━━━━━━━━━━\u001b[0m \u001b[32m6.9/6.9 MB\u001b[0m \u001b[31m89.8 MB/s\u001b[0m eta \u001b[36m0:00:00\u001b[0m\n",
            "\u001b[2K   \u001b[90m━━━━━━━━━━━━━━━━━━━━━━━━━━━━━━━━━━━━━━━━\u001b[0m \u001b[32m79.3/79.3 kB\u001b[0m \u001b[31m6.8 MB/s\u001b[0m eta \u001b[36m0:00:00\u001b[0m\n",
            "\u001b[2K   \u001b[90m━━━━━━━━━━━━━━━━━━━━━━━━━━━━━━━━━━━━━━━━\u001b[0m \u001b[32m62.7/62.7 kB\u001b[0m \u001b[31m4.9 MB/s\u001b[0m eta \u001b[36m0:00:00\u001b[0m\n",
            "\u001b[K\u001b[?25h\n",
            "added 22 packages, and audited 23 packages in 2s\n",
            "\n",
            "3 packages are looking for funding\n",
            "  run `npm fund` for details\n",
            "\n",
            "1 \u001b[33m\u001b[1mmoderate\u001b[22m\u001b[39m severity vulnerability\n",
            "\n",
            "To address all issues (including breaking changes), run:\n",
            "  npm audit fix --force\n",
            "\n",
            "Run `npm audit` for details.\n"
          ]
        }
      ],
      "source": [
        "# Install required libraries\n",
        "!pip install streamlit --quiet\n",
        "!npm install -g localtunnel\n",
        "!pip install pandas mlxtend --quiet"
      ]
    },
    {
      "cell_type": "code",
      "execution_count": 2,
      "metadata": {
        "id": "yKX9ehABy-bU"
      },
      "outputs": [],
      "source": [
        "!streamlit run app.py &>/dev/null&"
      ]
    },
    {
      "cell_type": "code",
      "execution_count": 3,
      "metadata": {
        "colab": {
          "base_uri": "https://localhost:8080/"
        },
        "id": "O1Pe5FPczHu-",
        "outputId": "74ebd5e9-a234-483b-c602-c9ec9cd0a5c2"
      },
      "outputs": [
        {
          "output_type": "stream",
          "name": "stdout",
          "text": [
            "\n",
            "Collecting usage statistics. To deactivate, set browser.gatherUsageStats to false.\n",
            "\u001b[0m\n",
            "\u001b[0m\n",
            "\u001b[34m\u001b[1m  Welcome to Streamlit. Check out our demo in your browser.\u001b[0m\n",
            "\u001b[0m\n",
            "\u001b[34m  Local URL: \u001b[0m\u001b[1mhttp://localhost:8501\u001b[0m\n",
            "\u001b[34m  Network URL: \u001b[0m\u001b[1mhttp://172.28.0.12:8501\u001b[0m\n",
            "\u001b[34m  External URL: \u001b[0m\u001b[1mhttp://35.245.37.192:8501\u001b[0m\n",
            "\u001b[0m\n",
            "  Ready to create your own Python apps super quickly?\u001b[0m\n",
            "  Head over to \u001b[0m\u001b[1mhttps://docs.streamlit.io\u001b[0m\n",
            "\u001b[0m\n",
            "  May you create awesome apps!\u001b[0m\n",
            "\u001b[0m\n",
            "\u001b[0m\n",
            "\u001b[34m  Stopping...\u001b[0m\n",
            "\u001b[34m  Stopping...\u001b[0m\n"
          ]
        }
      ],
      "source": [
        "!streamlit hello"
      ]
    },
    {
      "cell_type": "code",
      "source": [
        "!pip install streamlit\n",
        "!pip install pyngrok"
      ],
      "metadata": {
        "colab": {
          "base_uri": "https://localhost:8080/"
        },
        "id": "ahzkErqrN_K9",
        "outputId": "8dfd6655-6d53-4c30-89d7-897d12697d2f"
      },
      "execution_count": 4,
      "outputs": [
        {
          "output_type": "stream",
          "name": "stdout",
          "text": [
            "Requirement already satisfied: streamlit in /usr/local/lib/python3.10/dist-packages (1.39.0)\n",
            "Requirement already satisfied: altair<6,>=4.0 in /usr/local/lib/python3.10/dist-packages (from streamlit) (4.2.2)\n",
            "Requirement already satisfied: blinker<2,>=1.0.0 in /usr/lib/python3/dist-packages (from streamlit) (1.4)\n",
            "Requirement already satisfied: cachetools<6,>=4.0 in /usr/local/lib/python3.10/dist-packages (from streamlit) (5.5.0)\n",
            "Requirement already satisfied: click<9,>=7.0 in /usr/local/lib/python3.10/dist-packages (from streamlit) (8.1.7)\n",
            "Requirement already satisfied: numpy<3,>=1.20 in /usr/local/lib/python3.10/dist-packages (from streamlit) (1.26.4)\n",
            "Requirement already satisfied: packaging<25,>=20 in /usr/local/lib/python3.10/dist-packages (from streamlit) (24.1)\n",
            "Requirement already satisfied: pandas<3,>=1.4.0 in /usr/local/lib/python3.10/dist-packages (from streamlit) (2.2.2)\n",
            "Requirement already satisfied: pillow<11,>=7.1.0 in /usr/local/lib/python3.10/dist-packages (from streamlit) (10.4.0)\n",
            "Requirement already satisfied: protobuf<6,>=3.20 in /usr/local/lib/python3.10/dist-packages (from streamlit) (3.20.3)\n",
            "Requirement already satisfied: pyarrow>=7.0 in /usr/local/lib/python3.10/dist-packages (from streamlit) (16.1.0)\n",
            "Requirement already satisfied: requests<3,>=2.27 in /usr/local/lib/python3.10/dist-packages (from streamlit) (2.32.3)\n",
            "Requirement already satisfied: rich<14,>=10.14.0 in /usr/local/lib/python3.10/dist-packages (from streamlit) (13.9.2)\n",
            "Requirement already satisfied: tenacity<10,>=8.1.0 in /usr/local/lib/python3.10/dist-packages (from streamlit) (9.0.0)\n",
            "Requirement already satisfied: toml<2,>=0.10.1 in /usr/local/lib/python3.10/dist-packages (from streamlit) (0.10.2)\n",
            "Requirement already satisfied: typing-extensions<5,>=4.3.0 in /usr/local/lib/python3.10/dist-packages (from streamlit) (4.12.2)\n",
            "Requirement already satisfied: gitpython!=3.1.19,<4,>=3.0.7 in /usr/local/lib/python3.10/dist-packages (from streamlit) (3.1.43)\n",
            "Requirement already satisfied: pydeck<1,>=0.8.0b4 in /usr/local/lib/python3.10/dist-packages (from streamlit) (0.9.1)\n",
            "Requirement already satisfied: tornado<7,>=6.0.3 in /usr/local/lib/python3.10/dist-packages (from streamlit) (6.3.3)\n",
            "Requirement already satisfied: watchdog<6,>=2.1.5 in /usr/local/lib/python3.10/dist-packages (from streamlit) (5.0.3)\n",
            "Requirement already satisfied: entrypoints in /usr/local/lib/python3.10/dist-packages (from altair<6,>=4.0->streamlit) (0.4)\n",
            "Requirement already satisfied: jinja2 in /usr/local/lib/python3.10/dist-packages (from altair<6,>=4.0->streamlit) (3.1.4)\n",
            "Requirement already satisfied: jsonschema>=3.0 in /usr/local/lib/python3.10/dist-packages (from altair<6,>=4.0->streamlit) (4.23.0)\n",
            "Requirement already satisfied: toolz in /usr/local/lib/python3.10/dist-packages (from altair<6,>=4.0->streamlit) (0.12.1)\n",
            "Requirement already satisfied: gitdb<5,>=4.0.1 in /usr/local/lib/python3.10/dist-packages (from gitpython!=3.1.19,<4,>=3.0.7->streamlit) (4.0.11)\n",
            "Requirement already satisfied: python-dateutil>=2.8.2 in /usr/local/lib/python3.10/dist-packages (from pandas<3,>=1.4.0->streamlit) (2.8.2)\n",
            "Requirement already satisfied: pytz>=2020.1 in /usr/local/lib/python3.10/dist-packages (from pandas<3,>=1.4.0->streamlit) (2024.2)\n",
            "Requirement already satisfied: tzdata>=2022.7 in /usr/local/lib/python3.10/dist-packages (from pandas<3,>=1.4.0->streamlit) (2024.2)\n",
            "Requirement already satisfied: charset-normalizer<4,>=2 in /usr/local/lib/python3.10/dist-packages (from requests<3,>=2.27->streamlit) (3.4.0)\n",
            "Requirement already satisfied: idna<4,>=2.5 in /usr/local/lib/python3.10/dist-packages (from requests<3,>=2.27->streamlit) (3.10)\n",
            "Requirement already satisfied: urllib3<3,>=1.21.1 in /usr/local/lib/python3.10/dist-packages (from requests<3,>=2.27->streamlit) (2.2.3)\n",
            "Requirement already satisfied: certifi>=2017.4.17 in /usr/local/lib/python3.10/dist-packages (from requests<3,>=2.27->streamlit) (2024.8.30)\n",
            "Requirement already satisfied: markdown-it-py>=2.2.0 in /usr/local/lib/python3.10/dist-packages (from rich<14,>=10.14.0->streamlit) (3.0.0)\n",
            "Requirement already satisfied: pygments<3.0.0,>=2.13.0 in /usr/local/lib/python3.10/dist-packages (from rich<14,>=10.14.0->streamlit) (2.18.0)\n",
            "Requirement already satisfied: smmap<6,>=3.0.1 in /usr/local/lib/python3.10/dist-packages (from gitdb<5,>=4.0.1->gitpython!=3.1.19,<4,>=3.0.7->streamlit) (5.0.1)\n",
            "Requirement already satisfied: MarkupSafe>=2.0 in /usr/local/lib/python3.10/dist-packages (from jinja2->altair<6,>=4.0->streamlit) (3.0.1)\n",
            "Requirement already satisfied: attrs>=22.2.0 in /usr/local/lib/python3.10/dist-packages (from jsonschema>=3.0->altair<6,>=4.0->streamlit) (24.2.0)\n",
            "Requirement already satisfied: jsonschema-specifications>=2023.03.6 in /usr/local/lib/python3.10/dist-packages (from jsonschema>=3.0->altair<6,>=4.0->streamlit) (2024.10.1)\n",
            "Requirement already satisfied: referencing>=0.28.4 in /usr/local/lib/python3.10/dist-packages (from jsonschema>=3.0->altair<6,>=4.0->streamlit) (0.35.1)\n",
            "Requirement already satisfied: rpds-py>=0.7.1 in /usr/local/lib/python3.10/dist-packages (from jsonschema>=3.0->altair<6,>=4.0->streamlit) (0.20.0)\n",
            "Requirement already satisfied: mdurl~=0.1 in /usr/local/lib/python3.10/dist-packages (from markdown-it-py>=2.2.0->rich<14,>=10.14.0->streamlit) (0.1.2)\n",
            "Requirement already satisfied: six>=1.5 in /usr/local/lib/python3.10/dist-packages (from python-dateutil>=2.8.2->pandas<3,>=1.4.0->streamlit) (1.16.0)\n",
            "Collecting pyngrok\n",
            "  Downloading pyngrok-7.2.0-py3-none-any.whl.metadata (7.4 kB)\n",
            "Requirement already satisfied: PyYAML>=5.1 in /usr/local/lib/python3.10/dist-packages (from pyngrok) (6.0.2)\n",
            "Downloading pyngrok-7.2.0-py3-none-any.whl (22 kB)\n",
            "Installing collected packages: pyngrok\n",
            "Successfully installed pyngrok-7.2.0\n"
          ]
        }
      ]
    },
    {
      "cell_type": "code",
      "source": [
        "!pip install streamlit pandas mlxtend openpyxl localtunnel"
      ],
      "metadata": {
        "colab": {
          "base_uri": "https://localhost:8080/"
        },
        "id": "fI7III0yIOPD",
        "outputId": "51b5d085-9471-4a08-9bf4-239d3dc0a613"
      },
      "execution_count": 5,
      "outputs": [
        {
          "output_type": "stream",
          "name": "stdout",
          "text": [
            "Requirement already satisfied: streamlit in /usr/local/lib/python3.10/dist-packages (1.39.0)\n",
            "Requirement already satisfied: pandas in /usr/local/lib/python3.10/dist-packages (2.2.2)\n",
            "Requirement already satisfied: mlxtend in /usr/local/lib/python3.10/dist-packages (0.23.1)\n",
            "Requirement already satisfied: openpyxl in /usr/local/lib/python3.10/dist-packages (3.1.5)\n",
            "\u001b[31mERROR: Could not find a version that satisfies the requirement localtunnel (from versions: none)\u001b[0m\u001b[31m\n",
            "\u001b[0m\u001b[31mERROR: No matching distribution found for localtunnel\u001b[0m\u001b[31m\n",
            "\u001b[0m"
          ]
        }
      ]
    },
    {
      "cell_type": "code",
      "source": [
        "\n",
        "with open('market_basket_app.py', 'w') as f:\n",
        "    f.write(\"\"\"\n",
        "import streamlit as st\n",
        "import pandas as pd\n",
        "from mlxtend.frequent_patterns import apriori, association_rules\n",
        "from collections import defaultdict\n",
        "import openpyxl\n",
        "\n",
        "# Data preparation function\n",
        "def data_prep(dataframe):\n",
        "    # Create a 'Product_ID' column based on unique Product Name\n",
        "    dataframe['Product_ID'] = dataframe['Product Name'].astype('category').cat.codes + 1\n",
        "    return dataframe\n",
        "\n",
        "# Create a transaction-product matrix for Apriori Algorithm\n",
        "def create_transaction_product_df(dataframe, id=False):\n",
        "    if id:\n",
        "        # Create a basket-like structure using Product IDs\n",
        "        return dataframe.groupby(['Transaction ID', 'Product_ID'])['Product Name'].count().unstack().fillna(0).applymap(lambda x: 1 if x > 0 else 0)\n",
        "    else:\n",
        "        # Create a basket-like structure using Product Names\n",
        "        return dataframe.groupby(['Transaction ID', 'Product Name'])['Product Name'].count().unstack().fillna(0).applymap(lambda x: 1 if x > 0 else 0)\n",
        "\n",
        "# Run Apriori algorithm and generate association rules\n",
        "def apriori_alg(dataframe, support_val=0.01):\n",
        "    transaction_product_df = create_transaction_product_df(dataframe, id=True)\n",
        "    frequent_itemsets = apriori(transaction_product_df, min_support=support_val, use_colnames=True)\n",
        "    rules = association_rules(frequent_itemsets, metric=\"lift\", min_threshold=1)\n",
        "    sorted_rules = rules.sort_values(\"lift\", ascending=False)\n",
        "    return sorted_rules\n",
        "\n",
        "# Check for product ID given a product name\n",
        "def check_product_id(dataframe, product_name):\n",
        "    product_id = dataframe[dataframe[\"Product Name\"] == product_name][\"Product_ID\"].unique()[0]\n",
        "    return product_id, product_name\n",
        "\n",
        "# Recommend products based on association rules from the same category\n",
        "def recommend_product(dataframe, product_name, support_val=0.01):\n",
        "    product_id, _ = check_product_id(dataframe, product_name)\n",
        "    product_category = dataframe[dataframe['Product_ID'] == product_id]['Category'].values[0]  # Get category of the product\n",
        "\n",
        "    sorted_rules = apriori_alg(dataframe, support_val)\n",
        "    recommendation_list = []\n",
        "\n",
        "    # Loop through the association rules to find related products from the same category\n",
        "    for idx, product in enumerate(sorted_rules[\"antecedents\"]):\n",
        "        if product_id in product:\n",
        "            for rec_product in sorted_rules.iloc[idx][\"consequents\"]:\n",
        "                rec_category = dataframe[dataframe['Product_ID'] == rec_product]['Category'].values[0]\n",
        "                if rec_category == product_category:  # Only recommend products from the same category\n",
        "                    recommendation_list.append(rec_product)\n",
        "\n",
        "    recommendation_list = list(dict.fromkeys(recommendation_list))  # Remove duplicates\n",
        "\n",
        "    # Get product names for recommendations\n",
        "    if recommendation_list:\n",
        "        recommended_products = [dataframe[dataframe['Product_ID'] == recommendation_list[0]]['Product Name'].values[0]]  # Get one recommendation\n",
        "    else:\n",
        "        recommended_products = []\n",
        "    return recommended_products\n",
        "\n",
        "# Save only one product recommendation per product to an Excel file\n",
        "def save_recommendations_to_excel(dataframe, sorted_rules, output_filename=\"Product_Recommendations.xlsx\"):\n",
        "    recommendations = {}\n",
        "\n",
        "    for index, row in sorted_rules.iterrows():\n",
        "        antecedents = list(row['antecedents'])\n",
        "        consequents = list(row['consequents'])\n",
        "        for antecedent in antecedents:\n",
        "            if antecedent not in recommendations:  # Add only one recommendation per product\n",
        "                # Filter by category to ensure same category recommendations\n",
        "                antecedent_category = dataframe[dataframe['Product_ID'] == antecedent]['Category'].values[0]\n",
        "                for consequent in consequents:\n",
        "                    consequent_category = dataframe[dataframe['Product_ID'] == consequent]['Category'].values[0]\n",
        "                    if consequent_category == antecedent_category:  # Ensure same category recommendation\n",
        "                        recommendations[antecedent] = consequent\n",
        "                        break\n",
        "\n",
        "    # Create a DataFrame to save the recommendations\n",
        "    recommendations_df = pd.DataFrame(list(recommendations.items()), columns=['Product_ID', 'Recommended Product ID'])\n",
        "    recommendations_df['Product Name'] = recommendations_df['Product_ID'].apply(lambda x: dataframe[dataframe['Product_ID'] == x]['Product Name'].values[0])\n",
        "    recommendations_df['Recommended Product Name'] = recommendations_df['Recommended Product ID'].apply(\n",
        "        lambda id: dataframe[dataframe['Product_ID'] == id]['Product Name'].values[0])\n",
        "\n",
        "    # Save to Excel\n",
        "    recommendations_df.to_excel(output_filename, index=False)\n",
        "    return output_filename\n",
        "\n",
        "# Streamlit app interface\n",
        "st.title(\"Market Basket Analysis and Product Recommendation\")\n",
        "\n",
        "# Upload CSV file\n",
        "uploaded_file = st.file_uploader(\"Upload your CSV file\", type=[\"csv\"])\n",
        "\n",
        "if uploaded_file is not None:\n",
        "    data = pd.read_csv(uploaded_file)\n",
        "    data = data_prep(data)  # Prepare data by adding 'Product_ID' column\n",
        "\n",
        "    st.write(\"Preview of the uploaded data with Product_ID:\")\n",
        "    st.write(data.head())\n",
        "\n",
        "    # Show the frequent itemsets and association rules\n",
        "    if st.button(\"Run Apriori Algorithm\"):\n",
        "        frequent_itemsets = apriori_alg(data)\n",
        "        st.write(\"Frequent Itemsets and Association Rules:\")\n",
        "        st.write(frequent_itemsets)\n",
        "\n",
        "        # Save all recommendations to an Excel file\n",
        "        output_filename = save_recommendations_to_excel(data, frequent_itemsets)\n",
        "        st.write(f\"Product recommendations have been saved to {output_filename}.\")\n",
        "\n",
        "        with open(output_filename, 'rb') as file:\n",
        "            btn = st.download_button(\n",
        "                label=\"Download Product Recommendations\",\n",
        "                data=file,\n",
        "                file_name=output_filename,\n",
        "                mime='application/vnd.openxmlformats-officedocument.spreadsheetml.sheet'\n",
        "            )\n",
        "\n",
        "    # Recommendation system\n",
        "    product_name = st.text_input(\"Enter a product name for recommendations:\")\n",
        "\n",
        "    if st.button(\"Get Recommendations\"):\n",
        "        if product_name:\n",
        "            try:\n",
        "                product_list = recommend_product(data, product_name)\n",
        "                if len(product_list) == 0:\n",
        "                    st.write(\"There are no products that can be recommended!\")\n",
        "                else:\n",
        "                    st.write(\"Related product for product name -\", product_name, \":\")\n",
        "                    st.write(product_list[0])  # Show only one recommendation\n",
        "            except:\n",
        "                st.write(\"The product name you entered does not exist in the dataset.\")\n",
        "        else:\n",
        "            st.write(\"Please enter a valid product name.\")\n",
        "\"\"\")\n",
        "\n"
      ],
      "metadata": {
        "id": "i-bdX44UOF58"
      },
      "execution_count": 19,
      "outputs": []
    },
    {
      "cell_type": "code",
      "source": [
        "!streamlit run market_basket_app.py &>/dev/null &"
      ],
      "metadata": {
        "id": "LU_oXg34PdGw"
      },
      "execution_count": 7,
      "outputs": []
    },
    {
      "cell_type": "code",
      "source": [
        "!lt --port 8501"
      ],
      "metadata": {
        "colab": {
          "base_uri": "https://localhost:8080/"
        },
        "id": "uYO0osujPhdL",
        "outputId": "1b178e08-0b69-4281-c313-8769594e06d7"
      },
      "execution_count": 8,
      "outputs": [
        {
          "output_type": "stream",
          "name": "stdout",
          "text": [
            "your url is: https://mighty-lions-float.loca.lt\n",
            "^C\n"
          ]
        }
      ]
    },
    {
      "cell_type": "code",
      "source": [
        "!wget -q -O - https://loca.lt/mytunnelpassword"
      ],
      "metadata": {
        "colab": {
          "base_uri": "https://localhost:8080/"
        },
        "id": "Ca8NTqI2P2nk",
        "outputId": "4fa9a488-10ed-4f5e-ff4e-86827396dd86"
      },
      "execution_count": 9,
      "outputs": [
        {
          "output_type": "stream",
          "name": "stdout",
          "text": [
            "35.245.37.192"
          ]
        }
      ]
    },
    {
      "cell_type": "code",
      "source": [
        "!ngrok authtoken 2n9Tr7RQk2RUgPLuT2dIAXi1bpt_3JGdZk7HLowT5HqjC1VTn\n"
      ],
      "metadata": {
        "colab": {
          "base_uri": "https://localhost:8080/"
        },
        "id": "-iO41RhTSaj2",
        "outputId": "7a2171df-0928-4327-eaa9-656f3d9e957f"
      },
      "execution_count": 10,
      "outputs": [
        {
          "output_type": "stream",
          "name": "stdout",
          "text": [
            "Authtoken saved to configuration file: /root/.config/ngrok/ngrok.yml\n"
          ]
        }
      ]
    },
    {
      "cell_type": "code",
      "source": [
        "!pip install --upgrade pyngrok\n"
      ],
      "metadata": {
        "colab": {
          "base_uri": "https://localhost:8080/"
        },
        "id": "mPpk0VxKRkBZ",
        "outputId": "5d92d0fc-e19e-4b62-aadc-6af5cd6ee978"
      },
      "execution_count": 11,
      "outputs": [
        {
          "output_type": "stream",
          "name": "stdout",
          "text": [
            "Requirement already satisfied: pyngrok in /usr/local/lib/python3.10/dist-packages (7.2.0)\n",
            "Requirement already satisfied: PyYAML>=5.1 in /usr/local/lib/python3.10/dist-packages (from pyngrok) (6.0.2)\n"
          ]
        }
      ]
    },
    {
      "cell_type": "code",
      "source": [
        "!npm install -g localtunnel\n",
        "!lt --port 8501\n"
      ],
      "metadata": {
        "colab": {
          "base_uri": "https://localhost:8080/"
        },
        "id": "olwMw9fZzN1b",
        "outputId": "ec09e8d2-976e-4928-d53d-dfd9e8e592cd"
      },
      "execution_count": 12,
      "outputs": [
        {
          "output_type": "stream",
          "name": "stdout",
          "text": [
            "\u001b[K\u001b[?25h\n",
            "changed 22 packages, and audited 23 packages in 947ms\n",
            "\n",
            "3 packages are looking for funding\n",
            "  run `npm fund` for details\n",
            "\n",
            "1 \u001b[33m\u001b[1mmoderate\u001b[22m\u001b[39m severity vulnerability\n",
            "\n",
            "To address all issues (including breaking changes), run:\n",
            "  npm audit fix --force\n",
            "\n",
            "Run `npm audit` for details.\n",
            "your url is: https://fifty-crews-lay.loca.lt\n",
            "^C\n"
          ]
        }
      ]
    },
    {
      "cell_type": "code",
      "source": [
        "from pyngrok import ngrok\n",
        "import os\n",
        "\n",
        "\n",
        "# Start a new tunnel on port 8501 (for Streamlit app)\n",
        "public_url = ngrok.connect(8501, \"http\")\n",
        "print(f\"Public URL: {public_url}\")\n",
        "\n",
        "# Run the Streamlit app\n",
        "os.system('streamlit run market_basket_app.py &')\n"
      ],
      "metadata": {
        "colab": {
          "base_uri": "https://localhost:8080/"
        },
        "id": "NSM8hDAbSubp",
        "outputId": "356dd4be-e998-4ad8-9467-daf5d15cddc2"
      },
      "execution_count": 13,
      "outputs": [
        {
          "output_type": "stream",
          "name": "stdout",
          "text": [
            "Public URL: NgrokTunnel: \"https://4fdc-35-245-37-192.ngrok-free.app\" -> \"http://localhost:8501\"\n"
          ]
        },
        {
          "output_type": "execute_result",
          "data": {
            "text/plain": [
              "0"
            ]
          },
          "metadata": {},
          "execution_count": 13
        }
      ]
    }
  ],
  "metadata": {
    "colab": {
      "provenance": []
    },
    "kernelspec": {
      "display_name": "Python 3",
      "name": "python3"
    },
    "language_info": {
      "name": "python"
    }
  },
  "nbformat": 4,
  "nbformat_minor": 0
}